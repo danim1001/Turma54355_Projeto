{
 "cells": [
  {
   "cell_type": "code",
   "execution_count": 12,
   "metadata": {},
   "outputs": [
    {
     "name": "stdout",
     "output_type": "stream",
     "text": [
      "O seu IMC é : 31.80, \n",
      "Lembrando que: \n",
      "\n",
      "Abaixo do Peso:\n",
      "IMC abaixo de 18,5\n",
      "\n",
      "Peso Normal:\n",
      "IMC entre 18,5 e 24,9\n",
      "\n",
      "Sobrepeso:\n",
      "IMC entre 25 e 29,9\n",
      "\n",
      "Obesidade (Classe I):\n",
      "IMC entre 30 e 34,9\n",
      "\n",
      "Obesidade (Classe II):\n",
      "IMC entre 35 e 39,9\n",
      "\n",
      "Obesidade (Classe III):\n",
      "IMC de 40 ou mais\n"
     ]
    }
   ],
   "source": [
    "\"\"\"Escreva um programa em Python que calcule o IMC (Índice de Massa Corporal) \n",
    "de uma pessoa. O programa deve solicitar ao usuário o peso em kg e a altura em metros, \n",
    "e em seguida, calcular e imprimir o valor do IMC.\"\"\"\n",
    "\n",
    "peso_usuario = float(input(\"Qual seu peso?  \"))\n",
    "Altura_usuario = float(input(\"Qual sua altura? \"))\n",
    "imc = peso_usuario/(Altura_usuario*Altura_usuario)\n",
    "msg_imc = \"\"\"\n",
    "Abaixo do Peso:\n",
    "IMC abaixo de 18,5\n",
    "\n",
    "Peso Normal:\n",
    "IMC entre 18,5 e 24,9\n",
    "\n",
    "Sobrepeso:\n",
    "IMC entre 25 e 29,9\n",
    "\n",
    "Obesidade (Classe I):\n",
    "IMC entre 30 e 34,9\n",
    "\n",
    "Obesidade (Classe II):\n",
    "IMC entre 35 e 39,9\n",
    "\n",
    "Obesidade (Classe III):\n",
    "IMC de 40 ou mais\"\"\"\n",
    "print(f\"O seu IMC é : {imc:.2f}, \\nLembrando que: \\n{msg_imc}\")"
   ]
  },
  {
   "cell_type": "code",
   "execution_count": 17,
   "metadata": {},
   "outputs": [
    {
     "name": "stdout",
     "output_type": "stream",
     "text": [
      "[4, 5, 6, 7, 8]\n"
     ]
    }
   ],
   "source": [
    "\"\"\"Faça um programa que crie uma lista vazia e permita que o usuário insira 5 números inteiros na lista.\"\"\"\n",
    "\n",
    "lista_vazia = []\n",
    "usu = int(input(\"Diga 5 numeros: \"))\n",
    "\n",
    "for i in range(5):\n",
    "    usu = int(input(\"Diga 5 numeros: \"))\n",
    "    lista_vazia.append(usu)\n",
    "\n",
    "print(lista_vazia)\n"
   ]
  },
  {
   "cell_type": "code",
   "execution_count": 21,
   "metadata": {},
   "outputs": [],
   "source": [
    "\"\"\"Faça um programa que peça ao usuário para digitar uma\n",
    "lista de nomes separados por vírgula e transforme essa lista em uma lista de strings.\"\"\"\n",
    "\n",
    "lista_nomes = input(\"Lista de nomes separados: \")\n",
    "\n",
    "lista_nome = lista_nomes.replace(\",\",\" \")\n",
    "lista_nome\n"
   ]
  },
  {
   "cell_type": "code",
   "execution_count": null,
   "metadata": {},
   "outputs": [],
   "source": []
  }
 ],
 "metadata": {
  "kernelspec": {
   "display_name": "Python 3",
   "language": "python",
   "name": "python3"
  },
  "language_info": {
   "codemirror_mode": {
    "name": "ipython",
    "version": 3
   },
   "file_extension": ".py",
   "mimetype": "text/x-python",
   "name": "python",
   "nbconvert_exporter": "python",
   "pygments_lexer": "ipython3",
   "version": "3.12.0"
  }
 },
 "nbformat": 4,
 "nbformat_minor": 2
}
